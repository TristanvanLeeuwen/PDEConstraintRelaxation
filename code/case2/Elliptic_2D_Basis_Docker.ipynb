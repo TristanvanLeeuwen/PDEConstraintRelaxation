{
 "cells": [
  {
   "cell_type": "code",
   "execution_count": 1,
   "id": "b9ccd681",
   "metadata": {},
   "outputs": [],
   "source": [
    "import matplotlib.pyplot as plt\n",
    "from mpi4py import MPI\n",
    "from petsc4py.PETSc import ScalarType \n",
    "import numpy as np\n",
    "from matplotlib.font_manager import FontProperties\n",
    "\n",
    "import ufl\n",
    "from dolfinx import fem, io, mesh, plot\n",
    "from dolfinx.fem.petsc import LinearProblem\n",
    "from ufl import ds, dx, grad, inner\n",
    "\n",
    "## This link is super super helpful!!!\n",
    "## https://paulpotgieter.org/2023/04/17/installing-fenics-to-run-with-jupyter-notebook/\n",
    "##########################################################################################\n",
    "#### https://fenics.readthedocs.io/projects/containers/en/latest/jupyter.html ##########\n",
    "##########################################################################################\n",
    "#### docker run --rm -ti -v $(pwd):/root/shared -w /root/shared --init -ti -p 8888:8888 dolfinx/lab:stable\n",
    "##########################################################################################\n",
    "\n",
    "\n",
    "\n"
   ]
  },
  {
   "cell_type": "code",
   "execution_count": 2,
   "id": "2d6ddabe-b4f8-44af-bf18-94cd320e8f3c",
   "metadata": {},
   "outputs": [],
   "source": [
    "msh = mesh.create_rectangle(comm=MPI.COMM_WORLD,\n",
    "                            points=((0.0, 0.0), (1.0, 1.0)), n=(16, 16),\n",
    "                            cell_type=mesh.CellType.triangle)\n",
    "V = fem.functionspace(msh, (\"Lagrange\", 1))"
   ]
  },
  {
   "cell_type": "code",
   "execution_count": 3,
   "id": "9944543c-d945-4df1-b3e6-6e91ce513ea9",
   "metadata": {},
   "outputs": [],
   "source": [
    "facets = mesh.locate_entities_boundary(msh, dim=(msh.topology.dim - 1),\n",
    "                                       marker=lambda x: np.logical_or.reduce((\n",
    "                                           np.isclose(x[0], 0.0),\n",
    "                                           np.isclose(x[0], 1.0),\n",
    "                                           np.isclose(x[1], 0.0),\n",
    "                                           np.isclose(x[1], 1.0))))"
   ]
  },
  {
   "cell_type": "code",
   "execution_count": 4,
   "id": "4c59a6a4-4f21-4e42-a997-5261bae3da54",
   "metadata": {},
   "outputs": [],
   "source": [
    "dofs = fem.locate_dofs_topological(V=V, entity_dim=1, entities=facets)\n"
   ]
  },
  {
   "cell_type": "code",
   "execution_count": 5,
   "id": "29bfc5bb-1271-42de-b004-3096fe6ef693",
   "metadata": {},
   "outputs": [],
   "source": [
    "bc = fem.dirichletbc(value=ScalarType(0), dofs=dofs, V=V)"
   ]
  },
  {
   "cell_type": "code",
   "execution_count": 6,
   "id": "fae1d10c",
   "metadata": {
    "scrolled": true
   },
   "outputs": [
    {
     "data": {
      "text/plain": [
       "<matplotlib.collections.PathCollection at 0xffff6a2948b0>"
      ]
     },
     "execution_count": 6,
     "metadata": {},
     "output_type": "execute_result"
    },
    {
     "data": {
      "image/png": "[encoded data removed]",
      "text/plain": [
       "<Figure size 640x480 with 1 Axes>"
      ]
     },
     "metadata": {},
     "output_type": "display_data"
    }
   ],
   "source": [
    "# create boundary points, starting from (0,0), clockwise\n",
    "n = 11;\n",
    "x = np.linspace(0, 1, n)\n",
    "c = np.zeros((4*n-4,2))\n",
    "c[n:2*n-1,0] = x[1:]\n",
    "c[2*n-1:3*n-3,0] = 1\n",
    "c[3*n-3:,0] = np.flip(x[1:],axis = 0)\n",
    "c[0:n,1] = x\n",
    "c[n:2*n-2,1] = 1\n",
    "c[2*n-2:3*n-3,1] = np.flip(x[1:],axis = 0)\n",
    "c\n",
    "plt.scatter(c[:,0], c[:,1]) "
   ]
  },
  {
   "cell_type": "code",
   "execution_count": 7,
   "id": "32319039",
   "metadata": {},
   "outputs": [],
   "source": [
    "###  The source/receiver functions near the boundaries\n",
    "f_all = []\n",
    "for i in range(40):\n",
    "    f = fem.Function(V)\n",
    "    f.interpolate(lambda x: np.exp(-(pow(x[0] - c[i,0] ,2)+pow(x[1] - c[i,1],2))*20) )\n",
    "    f_all.append(f)\n"
   ]
  },
  {
   "cell_type": "code",
   "execution_count": 8,
   "id": "d6423c02-68df-4c5d-91e5-5ebad482bf19",
   "metadata": {},
   "outputs": [],
   "source": [
    "u_trial = ufl.TrialFunction(V)\n",
    "u_test = ufl.TestFunction(V)\n",
    "x = ufl.SpatialCoordinate(msh)\n",
    "\n",
    "atrue = ufl.sin(x[0]*3)**2 + ufl.sin(x[1]*3)**2 + ufl.sin(10*x[0])**2 + ufl.sin(10*x[1])**2  \n",
    "\n",
    "A = inner(atrue * grad(u_trial), grad(u_test)) * dx\n",
    "\n",
    "D = np.zeros((40,40))\n",
    "for j in range(40):\n",
    "    L_true = f_all[j] * u_test * dx\n",
    "    # solve the forward/state problem to generate synthetic observations\n",
    "    problem = LinearProblem(A, L_true, bcs=[bc], petsc_options={\"ksp_type\": \"preonly\", \"pc_type\": \"lu\"})\n",
    "    u_j = problem.solve()\n",
    "    \n",
    "    for i in range(40):\n",
    "        # d_{ij} = \\mathcal{P}_i(u_j)\n",
    "\n",
    "        D[i,j] = fem.assemble_scalar(fem.form(inner( u_j , f_all[i]) * dx ))\n"
   ]
  },
  {
   "cell_type": "code",
   "execution_count": 13,
   "id": "ba7570fc",
   "metadata": {},
   "outputs": [],
   "source": [
    "nk = 51\n",
    "obj_all_inf = np.zeros(nk,)\n",
    "obj_all_zero = np.zeros(nk,)\n",
    "obj_all_small = np.zeros(nk,)\n",
    "obj_all_large = np.zeros(nk,)\n",
    "c_all = np.linspace(0, 2, nk)\n",
    "\n",
    "w_all = []\n",
    "for k in range(nk):\n",
    "    # a = interpolate(Expression('8. - 2.*(pow(x[0] - 0.5,2) + pow(x[1] - 0.5,2) < pow(0.2,2)) + c', c = k*0.1, degree=5), Va)\n",
    "    # a = interpolate(Expression('pow(sin(x[0]*3),2) + pow(sin(x[1]*3),2) + (1+c)*(pow(sin(10*x[0]),2) + pow(sin(10*x[1]),2))', \n",
    "    #                            c = k*10, degree=2), Va)\n",
    "\n",
    "    c = c_all[k]\n",
    "    a = ufl.sin(x[0]*3)**2 + ufl.sin(x[1]*3)**2 + (1+100*c)*ufl.sin(10*x[0])**2 + ufl.sin(10*x[1])**2\n",
    "     \n",
    "    A = inner(a * grad(u_trial), grad(u_test)) * dx\n",
    "    \n",
    "    w_all = [] # initialize {w_i}\n",
    "    E = np.zeros((40,40))\n",
    "    G = np.zeros((40,40))\n",
    "    for j in range(40):\n",
    "        L_true = f_all[j] * u_test * dx\n",
    "        # solve the forward/state problem to generate synthetic observations\n",
    "        problem = LinearProblem(A, L_true, bcs=[bc], petsc_options={\"ksp_type\": \"preonly\", \"pc_type\": \"lu\"})\n",
    "        u_j = problem.solve()\n",
    "        \n",
    "        w_all.append(u_j)\n",
    "        for i in range(40):\n",
    "            E[i,j] = D[i,j] -  fem.assemble_scalar(fem.form(inner( u_j , f_all[i]) * dx ))\n",
    "            \n",
    "    for j in range(40):\n",
    "        for i in range(j+1):\n",
    "            G[i,j] =fem.assemble_scalar(fem.form( inner( grad(w_all[i]) , grad(w_all[j])) * dx ))\n",
    "            G[j,i] = G[i,j] # since G is symmetric in this case\n",
    "    # np.linalg.cond(G)\n",
    "    ### J = 0.5*{trace}[E(c)^*(I+1/rho*G(c))^{-1}E(c)]\n",
    "    # G = G*1e9\n",
    "    obj_all_inf[k] =  0.5*np.trace(E.transpose()*E)\n",
    "    obj_all_large[k] =  0.5*np.trace(E.transpose()* np.linalg.inv(np.eye(40) + G/1e-9)*E)\n",
    "    obj_all_small[k] =  0.5*np.trace(E.transpose()* np.linalg.inv(np.eye(40) + G/1e-15)*E)\n",
    "    obj_all_zero[k] =  0.5*np.trace(E.transpose()* np.linalg.inv(G)*E)"
   ]
  },
  {
   "cell_type": "code",
   "execution_count": 15,
   "id": "8299f0d4",
   "metadata": {},
   "outputs": [
    {
     "data": {
      "image/png": "[encoded data removed]",
      "text/plain": [
       "<Figure size 400x300 with 1 Axes>"
      ]
     },
     "metadata": {},
     "output_type": "display_data"
    }
   ],
   "source": [
    "font = FontProperties()\n",
    "font.set_family('serif')\n",
    "# font.set_name('Times New Roman')\n",
    "font.set_size('12')\n",
    "# font.set_style('italic')\n",
    "\n",
    "fig, ax =  plt.subplots(figsize=(4, 3))\n",
    "\n",
    "coeffs = c_all\n",
    "\n",
    "ax.plot(coeffs, obj_all_inf/np.max(obj_all_inf),color='r',label =  r'$\\rho = \\infty$')\n",
    "ax.plot(coeffs, obj_all_large/np.max(obj_all_large),color='g',label = r'$\\rho$ large')\n",
    "ax.plot(coeffs, obj_all_small/np.max(obj_all_small),color='k',label = r'$\\rho$ small')\n",
    "ax.plot(coeffs, obj_all_zero/np.max(obj_all_zero),color='b',label = r'$\\rho= 0$')\n",
    "ax.legend()\n",
    "ax.set_xlabel('coefficient', fontproperties=font)\n",
    "ax.set_ylabel('normalized obj. function', fontproperties=font)\n",
    "plt.savefig('Poisson2D-full-basis-H1semi-inner.pdf',bbox_inches='tight')  "
   ]
  },
  {
   "cell_type": "code",
   "execution_count": 71,
   "id": "54ad70f4",
   "metadata": {},
   "outputs": [
    {
     "data": {
      "text/plain": [
       "<matplotlib.tri.tricontour.TriContourSet at 0x405e90acc0>"
      ]
     },
     "execution_count": 71,
     "metadata": {},
     "output_type": "execute_result"
    },
    {
     "data": {
      "image/png": "[encoded data removed]",
      "text/plain": [
       "<Figure size 432x288 with 1 Axes>"
      ]
     },
     "metadata": {
      "needs_background": "light"
     },
     "output_type": "display_data"
    }
   ],
   "source": [
    "a = interpolate(Constant(0.5), Va)\n",
    "a_syn = inner( a * grad(u_trial), grad(u_test)) * dx\n",
    "L = f * u_test * dx\n",
    "\n",
    "# solve the forward/state problem to generate synthetic observations\n",
    "A, b = assemble_system(a_syn, L, bc_state)\n",
    "\n",
    "u = Function(Vu)\n",
    "solve(A, u.vector(), b)\n",
    "\n",
    "ud_pre = Function(Vu)\n",
    "ud_pre.assign(u)\n",
    "plot(u)"
   ]
  },
  {
   "cell_type": "code",
   "execution_count": 138,
   "id": "42d47990",
   "metadata": {},
   "outputs": [],
   "source": [
    "# Regularization parameter\n",
    "gamma = 1e-9\n",
    "\n",
    "# Define cost function\n",
    "def cost(u, ud, m, gamma):\n",
    "    reg = 0.5*gamma * assemble( inner(grad(m), grad(m))*dx ) \n",
    "    misfit = 0.5 * assemble( (u-ud)**2*dx)\n",
    "    return [reg + misfit, misfit, reg]"
   ]
  },
  {
   "cell_type": "code",
   "execution_count": 139,
   "id": "a519893c",
   "metadata": {},
   "outputs": [
    {
     "data": {
      "text/plain": [
       "[3.147269980032019e-07, 3.147269980032019e-07, 0.0]"
      ]
     },
     "execution_count": 139,
     "metadata": {},
     "output_type": "execute_result"
    }
   ],
   "source": [
    "cost(ud, ud_pre, a, gamma)"
   ]
  },
  {
   "cell_type": "code",
   "execution_count": 297,
   "id": "3351064a",
   "metadata": {},
   "outputs": [
    {
     "ename": "NameError",
     "evalue": "name 'hah' is not defined",
     "output_type": "error",
     "traceback": [
      "\u001b[0;31m---------------------------------------------------------------------------\u001b[0m",
      "\u001b[0;31mNameError\u001b[0m                                 Traceback (most recent call last)",
      "Cell \u001b[0;32mIn[297], line 1\u001b[0m\n\u001b[0;32m----> 1\u001b[0m \u001b[43mhah\u001b[49m\n",
      "\u001b[0;31mNameError\u001b[0m: name 'hah' is not defined"
     ]
    }
   ],
   "source": [
    "hah"
   ]
  },
  {
   "cell_type": "code",
   "execution_count": 29,
   "id": "455bafea",
   "metadata": {},
   "outputs": [
    {
     "data": {
      "text/plain": [
       "array([[4.67749380e-08, 6.33202118e-08, 7.48485240e-08, ...,\n",
       "        7.82014546e-08, 7.48485240e-08, 6.33202118e-08],\n",
       "       [6.33202118e-08, 8.75925627e-08, 1.06234445e-07, ...,\n",
       "        1.06254085e-07, 1.01492843e-07, 8.57633593e-08],\n",
       "       [7.48485240e-08, 1.06234445e-07, 1.32821313e-07, ...,\n",
       "        1.26397031e-07, 1.20347137e-07, 1.01492843e-07],\n",
       "       ...,\n",
       "       [7.82014546e-08, 1.06254085e-07, 1.26397031e-07, ...,\n",
       "        1.71378140e-07, 1.47952196e-07, 1.14309643e-07],\n",
       "       [7.48485240e-08, 1.01492843e-07, 1.20347137e-07, ...,\n",
       "        1.47952196e-07, 1.32821313e-07, 1.06234445e-07],\n",
       "       [6.33202118e-08, 8.57633593e-08, 1.01492843e-07, ...,\n",
       "        1.14309643e-07, 1.06234445e-07, 8.75925627e-08]])"
      ]
     },
     "execution_count": 29,
     "metadata": {},
     "output_type": "execute_result"
    }
   ],
   "source": [
    "G"
   ]
  },
  {
   "cell_type": "code",
   "execution_count": null,
   "id": "27e82dfb",
   "metadata": {},
   "outputs": [],
   "source": []
  }
 ],
 "metadata": {
  "kernelspec": {
   "display_name": "Python 3 (ipykernel)",
   "language": "python",
   "name": "python3"
  },
  "language_info": {
   "codemirror_mode": {
    "name": "ipython",
    "version": 3
   },
   "file_extension": ".py",
   "mimetype": "text/x-python",
   "name": "python",
   "nbconvert_exporter": "python",
   "pygments_lexer": "ipython3",
   "version": "3.12.7"
  }
 },
 "nbformat": 4,
 "nbformat_minor": 5
}

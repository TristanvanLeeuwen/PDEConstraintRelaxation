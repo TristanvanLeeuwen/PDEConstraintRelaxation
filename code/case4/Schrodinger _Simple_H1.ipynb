{
 "cells": [
  {
   "cell_type": "code",
   "execution_count": 1,
   "id": "9c6c4fd6-43b3-44b9-a602-f3c3766f648f",
   "metadata": {},
   "outputs": [],
   "source": [
    "import matplotlib.pyplot as plt\n",
    "from mpi4py import MPI\n",
    "from petsc4py.PETSc import ScalarType \n",
    "import numpy as np\n",
    "from matplotlib.font_manager import FontProperties\n",
    "\n",
    "import ufl\n",
    "from dolfinx import fem, io, mesh, plot\n",
    "from dolfinx.fem import assemble_scalar, form\n",
    "from dolfinx.fem.petsc import LinearProblem\n",
    "from ufl import ds, dx, grad, inner\n",
    "\n",
    "## This link is super super helpful!!!\n",
    "## https://paulpotgieter.org/2023/04/17/installing-fenics-to-run-with-jupyter-notebook/\n",
    "##########################################################################################\n",
    "#### https://fenics.readthedocs.io/projects/containers/en/latest/jupyter.html ##########\n",
    "##########################################################################################\n",
    "# New opening up options ####\n",
    "# docker run --rm -ti -v $(pwd):/root/shared -w /root/shared --init -ti -p 8888:8888 dolfinx/lab:stable\n"
   ]
  },
  {
   "cell_type": "code",
   "execution_count": 2,
   "id": "bb1cb2a6-680c-4391-a533-4170c55b980c",
   "metadata": {},
   "outputs": [],
   "source": [
    "msh = mesh.create_rectangle(comm=MPI.COMM_WORLD,\n",
    "                            points=((0.0, 0.0), (1.0, 1.0)), n=(16, 16),\n",
    "                            cell_type=mesh.CellType.triangle)\n",
    "V = fem.functionspace(msh, (\"Lagrange\", 1))\n",
    "\n",
    "facets = mesh.locate_entities_boundary(msh, dim=(msh.topology.dim - 1),\n",
    "                                       marker=lambda x: np.logical_or.reduce((\n",
    "                                           np.isclose(x[0], 0.0),\n",
    "                                           np.isclose(x[0], 1.0),\n",
    "                                           np.isclose(x[1], 0.0),\n",
    "                                           np.isclose(x[1], 1.0))))\n",
    "dofs = fem.locate_dofs_topological(V=V, entity_dim=1, entities=facets)\n",
    "bc = fem.dirichletbc(value=ScalarType(0), dofs=dofs, V=V)"
   ]
  },
  {
   "cell_type": "code",
   "execution_count": 3,
   "id": "f3c6d808-25f7-4bf9-b79f-23e56d5050b7",
   "metadata": {},
   "outputs": [
    {
     "data": {
      "text/plain": [
       "<matplotlib.collections.PathCollection at 0xffff7c36dab0>"
      ]
     },
     "execution_count": 3,
     "metadata": {},
     "output_type": "execute_result"
    },
    {
     "data": {
      "image/png": "[encoded data removed]",
      "text/plain": [
       "<Figure size 640x480 with 1 Axes>"
      ]
     },
     "metadata": {},
     "output_type": "display_data"
    }
   ],
   "source": [
    "# create boundary points, starting from (0,0), clockwise\n",
    "n = 11;\n",
    "x = np.linspace(0, 1, n)\n",
    "c = np.zeros((4*n-4,2))\n",
    "c[n:2*n-1,0] = x[1:]\n",
    "c[2*n-1:3*n-3,0] = 1\n",
    "c[3*n-3:,0] = np.flip(x[1:])\n",
    "c[0:n,1] = x\n",
    "c[n:2*n-2,1] = 1\n",
    "c[2*n-2:3*n-3,1] = np.flip(x[1:])\n",
    "c\n",
    "plt.scatter(c[:,0], c[:,1]) "
   ]
  },
  {
   "cell_type": "code",
   "execution_count": 4,
   "id": "aa8d9daa-5945-4798-86f1-a17f4373cb77",
   "metadata": {},
   "outputs": [],
   "source": [
    "###  The source/receiver functions near the boundaries\n",
    "f_all = []\n",
    "for i in range(40):\n",
    "    f = fem.Function(V)\n",
    "    f.interpolate(lambda x: np.exp(-(pow(x[0] - c[i,0] ,2)+pow(x[1] - c[i,1],2))*20) )\n",
    "    f_all.append(f)\n"
   ]
  },
  {
   "cell_type": "code",
   "execution_count": 5,
   "id": "a5abf082-08ab-4895-8d5a-dd7cf2eae2c8",
   "metadata": {},
   "outputs": [],
   "source": [
    "# atrue = ufl.sin(x[0])**2 + ufl.sin(x[1])**2 + ufl.sin(10*x[0])**2 + ufl.sin(10*x[1])**2  \n",
    "\n",
    "atrue = fem.Function(V)\n",
    "atrue.interpolate(lambda x: 1 + ( (x[0] - 0.5)**2 + (x[1] - 0.5)**2  < 0.04 ))\n"
   ]
  },
  {
   "cell_type": "code",
   "execution_count": 12,
   "id": "92cf6d2b-f1b4-4d4b-9926-a00238306c22",
   "metadata": {
    "scrolled": true
   },
   "outputs": [],
   "source": [
    "u_trial = ufl.TrialFunction(V)\n",
    "u_test = ufl.TestFunction(V)\n",
    "\n",
    "x = ufl.SpatialCoordinate(msh)\n",
    "\n",
    "\n",
    "M = np.zeros((40,40))\n",
    "A = np.zeros((40,40))\n",
    "l = 1\n",
    "# we used the standard H^1 semi norn inner product\n",
    "# \\mathcal{A}_c(u,v)=\\int_{\\Omega} \\nabla u(x)\\cdot \\nabla v(x)\\mathrm{d}x + ...\n",
    "# \\int_{\\Omega} c(x)u(x)v(x)\\mathrm{d}x - \\lambda \\int_{\\Omega} u(x)v(x)\\mathrm{d}x\n",
    "\n",
    "\n",
    "for j in range(40):\n",
    "    for i in range(40):\n",
    "        # The inner product\n",
    "        # \\langle u,v\\rangle_{\\mathsf{U}} = \\int_{\\Omega} \\nabla u(x)\\cdot\\nabla v(x)\\mathrm{d}x\n",
    "        #                                    + \\int_{\\Omega} c(x)u(x)v(x)\\mathrm{d}x\n",
    "        M[i,j] = assemble_scalar(form(inner( grad(f_all[j]), grad(f_all[i]))*dx)) \n",
    "\n",
    "        # The bilinear form\n",
    "        # \\mathcal{A}_c(u,v)=\\int_{\\Omega} \\nabla u(x)\\cdot \\nabla v(x)\\mathrm{d}x + ...\n",
    "        # \\int_{\\Omega} c(x)u(x)v(x)\\mathrm{d}x - \\lambda \\int_{\\Omega} u(x)v(x)\\mathrm{d}x\n",
    "        A[i,j]  =  M[i,j] + assemble_scalar(form(inner(atrue*f_all[j], f_all[i])*dx ) ) \\\n",
    "                          - assemble_scalar(form(inner(l*f_all[j], f_all[i])*dx))\n",
    "\n",
    "D = M*np.linalg.inv(A)*M"
   ]
  },
  {
   "cell_type": "code",
   "execution_count": 13,
   "id": "e96676b9-7aa7-4707-a510-b2bc6741286f",
   "metadata": {},
   "outputs": [],
   "source": [
    "nk = 21\n",
    "obj_all_inf = np.zeros(nk,)\n",
    "obj_all_zero = np.zeros(nk,)\n",
    "obj_all_small = np.zeros(nk,)\n",
    "obj_all_large = np.zeros(nk,)\n",
    "\n",
    "c_all = np.linspace(0, 2, nk)\n",
    "\n",
    "\n",
    "for k in range(nk):\n",
    "    # c = (k-(nk-1)/2)*20\n",
    "    c = c_all[k]\n",
    "    a = fem.Function(V)\n",
    "    a.interpolate(lambda x: (1+c) + ( (x[0] - 0.5)**2 + (x[1] - 0.5)**2  < 0.04 ))\n",
    "    \n",
    "    A = D*0 # initialize matrix A\n",
    "    for j in range(40):\n",
    "        for i in range(40):\n",
    "            M[i,j] = assemble_scalar(form(inner( grad(f_all[j]), grad(f_all[i]))*dx))\n",
    "            A[i,j]  =  M[i,j] + assemble_scalar(form(inner(a*f_all[j], f_all[i])*dx ) ) \\\n",
    "                              - assemble_scalar(form(inner(l*f_all[j], f_all[i])*dx))\n",
    "    A_inv = np.linalg.inv(A)\n",
    "    \n",
    "    B = M*A_inv*M\n",
    "    G = B*A_inv*M\n",
    "    E = D - B \n",
    "    obj_all_inf[k] =  0.5*np.trace(E.transpose()*E)\n",
    "    obj_all_large[k] =  0.5*np.trace(E.transpose()* np.linalg.inv(np.eye(40) + G/1e8)*E)\n",
    "    obj_all_small[k] =  0.5*np.trace(E.transpose()* np.linalg.inv(np.eye(40) + G/1e5)*E)\n",
    "    obj_all_zero[k] =  0.5*np.trace(E.transpose()* np.linalg.inv(np.eye(40) + G/1e-2)*E)"
   ]
  },
  {
   "cell_type": "code",
   "execution_count": 14,
   "id": "f57cef74-7383-44f3-ac07-c6c9cab9e2c4",
   "metadata": {},
   "outputs": [
    {
     "data": {
      "text/plain": [
       "Text(0, 0.5, 'normalized obj. function')"
      ]
     },
     "execution_count": 14,
     "metadata": {},
     "output_type": "execute_result"
    },
    {
     "data": {
      "image/png": "[encoded data removed]",
      "text/plain": [
       "<Figure size 1000x300 with 1 Axes>"
      ]
     },
     "metadata": {},
     "output_type": "display_data"
    }
   ],
   "source": [
    "font = FontProperties()\n",
    "font.set_family('serif')\n",
    "# font.set_name('Times New Roman')\n",
    "font.set_size('12')\n",
    "# font.set_style('italic')\n",
    "\n",
    "coeffs  = c_all\n",
    "\n",
    "fig, ax =  plt.subplots(figsize=(10, 3))\n",
    "\n",
    "ax.plot(coeffs, obj_all_inf/np.max(obj_all_inf),color='r',label =  r'$\\rho \\longrightarrow \\infty$')\n",
    "ax.plot(coeffs, obj_all_large/np.max(obj_all_large),color='g',label = r'$\\rho$ large')\n",
    "ax.plot(coeffs, obj_all_small/np.max(obj_all_small),color='k',label = r'$\\rho$ small')\n",
    "ax.plot(coeffs, obj_all_zero/np.max(obj_all_zero),color='b',label = r'$\\rho \\longrightarrow 0$')\n",
    "ax.legend()\n",
    "ax.set_xlabel('coefficient', fontproperties=font)\n",
    "ax.set_ylabel('normalized obj. function', fontproperties=font)\n",
    "# plt.savefig('Poisson2D-source-basis.pdf',bbox_inches='tight')  "
   ]
  },
  {
   "cell_type": "code",
   "execution_count": null,
   "id": "ad2e1157-ae73-4e6e-8d74-ddfeb2e9e5a9",
   "metadata": {},
   "outputs": [],
   "source": [
    "a = interpolate(Constant(0.5), Va)\n",
    "a_syn = inner( a * grad(u_trial), grad(u_test)) * dx\n",
    "L = f * u_test * dx\n",
    "\n",
    "# solve the forward/state problem to generate synthetic observations\n",
    "A, b = assemble_system(a_syn, L, bc_state)\n",
    "\n",
    "u = Function(Vu)\n",
    "solve(A, u.vector(), b)\n",
    "\n",
    "ud_pre = Function(Vu)\n",
    "ud_pre.assign(u)\n",
    "plot(u)"
   ]
  },
  {
   "cell_type": "code",
   "execution_count": null,
   "id": "ac11edb3-6bdf-4531-bb31-71a6f66ce464",
   "metadata": {},
   "outputs": [],
   "source": [
    "# Regularization parameter\n",
    "gamma = 1e-9\n",
    "\n",
    "# Define cost function\n",
    "def cost(u, ud, m, gamma):\n",
    "    reg = 0.5*gamma * assemble( inner(grad(m), grad(m))*dx ) \n",
    "    misfit = 0.5 * assemble( (u-ud)**2*dx)\n",
    "    return [reg + misfit, misfit, reg]"
   ]
  },
  {
   "cell_type": "code",
   "execution_count": null,
   "id": "33caa875-4fdd-4f90-bb52-8f2de23b9e26",
   "metadata": {},
   "outputs": [],
   "source": []
  }
 ],
 "metadata": {
  "kernelspec": {
   "display_name": "Python 3 (ipykernel)",
   "language": "python",
   "name": "python3"
  },
  "language_info": {
   "codemirror_mode": {
    "name": "ipython",
    "version": 3
   },
   "file_extension": ".py",
   "mimetype": "text/x-python",
   "name": "python",
   "nbconvert_exporter": "python",
   "pygments_lexer": "ipython3",
   "version": "3.10.12"
  }
 },
 "nbformat": 4,
 "nbformat_minor": 5
}

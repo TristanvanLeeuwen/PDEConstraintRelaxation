{
 "cells": [
  {
   "cell_type": "code",
   "execution_count": 1,
   "id": "b9ccd681",
   "metadata": {},
   "outputs": [],
   "source": [
    "import matplotlib.pyplot as plt\n",
    "from mpi4py import MPI\n",
    "from petsc4py.PETSc import ScalarType \n",
    "import numpy as np\n",
    "from matplotlib.font_manager import FontProperties\n",
    "\n",
    "import ufl\n",
    "from dolfinx import fem, io, mesh, plot\n",
    "from dolfinx.fem import assemble_scalar, form\n",
    "from dolfinx.fem.petsc import LinearProblem\n",
    "from ufl import ds, dx, grad, inner\n",
    "\n",
    "## This link is super super helpful!!!\n",
    "## https://paulpotgieter.org/2023/04/17/installing-fenics-to-run-with-jupyter-notebook/\n",
    "##########################################################################################\n",
    "#### https://fenics.readthedocs.io/projects/containers/en/latest/jupyter.html ##########\n",
    "##########################################################################################\n",
    "# New opening up options ####\n",
    "# docker run --rm -ti -v $(pwd):/root/shared -w /root/shared --init -ti -p 8888:8888 dolfinx/lab:stable\n"
   ]
  },
  {
   "cell_type": "code",
   "execution_count": 2,
   "id": "2d6ddabe-b4f8-44af-bf18-94cd320e8f3c",
   "metadata": {},
   "outputs": [],
   "source": [
    "msh = mesh.create_rectangle(comm=MPI.COMM_WORLD,\n",
    "                            points=((0.0, 0.0), (1.0, 1.0)), n=(32, 32),\n",
    "                            cell_type=mesh.CellType.triangle)\n",
    "V = fem.functionspace(msh, (\"Lagrange\", 1))"
   ]
  },
  {
   "cell_type": "code",
   "execution_count": 3,
   "id": "9944543c-d945-4df1-b3e6-6e91ce513ea9",
   "metadata": {},
   "outputs": [],
   "source": [
    "facets = mesh.locate_entities_boundary(msh, dim=(msh.topology.dim - 1),\n",
    "                                       marker=lambda x: np.logical_or.reduce((\n",
    "                                           np.isclose(x[0], 0.0),\n",
    "                                           np.isclose(x[0], 1.0),\n",
    "                                           np.isclose(x[1], 0.0),\n",
    "                                           np.isclose(x[1], 1.0))))\n",
    "dofs = fem.locate_dofs_topological(V=V, entity_dim=1, entities=facets)\n",
    "bc = fem.dirichletbc(value=ScalarType(0), dofs=dofs, V=V)"
   ]
  },
  {
   "cell_type": "code",
   "execution_count": 4,
   "id": "fae1d10c",
   "metadata": {
    "scrolled": true
   },
   "outputs": [],
   "source": [
    "# create boundary points, starting from (0,0), clockwise\n",
    "n = 11;\n",
    "x = np.linspace(0, 1, n)\n",
    "c = np.zeros((4*n-4,2))\n",
    "c[n:2*n-1,0] = x[1:]\n",
    "c[2*n-1:3*n-3,0] = 1\n",
    "c[3*n-3:,0] = np.flip(x[1:],axis = 0)\n",
    "c[0:n,1] = x\n",
    "c[n:2*n-2,1] = 1\n",
    "c[2*n-2:3*n-3,1] = np.flip(x[1:],axis = 0)\n",
    "# c\n",
    "# plt.scatter(c[:,0], c[:,1]) "
   ]
  },
  {
   "cell_type": "code",
   "execution_count": 5,
   "id": "32319039",
   "metadata": {},
   "outputs": [],
   "source": [
    "###  The source/receiver functions near the boundaries\n",
    "#### Note these f is the source term belonging to the weaker space\n",
    "f_all = []\n",
    "for i in range(40):\n",
    "    f = fem.Function(V)\n",
    "    f.interpolate(lambda x: np.exp(-(pow(x[0] - c[i,0] ,2)+pow(x[1] - c[i,1],2))*20) )\n",
    "    f_all.append(f)\n"
   ]
  },
  {
   "cell_type": "code",
   "execution_count": 6,
   "id": "990d523c-00c4-45d2-94b2-123c07f6013a",
   "metadata": {},
   "outputs": [],
   "source": [
    "u_trial = ufl.TrialFunction(V)\n",
    "u_test = ufl.TestFunction(V)\n",
    "x = ufl.SpatialCoordinate(msh)\n",
    "\n",
    "# atrue = ufl.sin(x[0])**2 + ufl.sin(x[1])**2 + ufl.sin(10*x[0])**2 + ufl.sin(10*x[1])**2  \n",
    "\n",
    "# atrue = fem.Function(V)\n",
    "# atrue.interpolate(lambda x: 1 + ( (x[0]-0.5)**2 + (x[1] - 0.5)**2 < 0.01) + \\\n",
    "#                                 (pow(np.sin(x[0]*10),2) + pow(np.sin(x[1]*10),2)))\n",
    "atrue = 30*(ufl.sin(x[0]*3)**2 + ufl.sin(x[1]*3)**2 \\\n",
    "          + ufl.sin(10*x[0])**2 + ufl.sin(10*x[1])**2 ) \n"
   ]
  },
  {
   "cell_type": "code",
   "execution_count": 7,
   "id": "4b04bf10-ba4e-4d56-9f88-d83664c01db8",
   "metadata": {},
   "outputs": [],
   "source": [
    "# obtain p_i's from f_i's\n",
    "## Note that p_i is the Riesz representation of f_i based on a_true!!!\n",
    "p_all = []\n",
    "B = inner(grad(u_trial),grad(u_test))*dx + inner(atrue*u_trial,u_test)*dx \n",
    "for i in range(40):\n",
    "    RHS = f_all[i] * u_test * dx\n",
    "    problem = LinearProblem(B, RHS, bcs=[bc], petsc_options={\"ksp_type\": \"preonly\", \"pc_type\": \"lu\"})\n",
    "    u = problem.solve()\n",
    "    p_all.append(u)"
   ]
  },
  {
   "cell_type": "code",
   "execution_count": 8,
   "id": "d6423c02-68df-4c5d-91e5-5ebad482bf19",
   "metadata": {},
   "outputs": [],
   "source": [
    "# The bilinear form\n",
    "# \\mathcal{A}_c(u,v)=\\int_{\\Omega} \\nabla u(x)\\cdot \\nabla v(x)\\mathrm{d}x + ...\n",
    "# \\int_{\\Omega} c(x)u(x)v(x)\\mathrm{d}x - \\lambda \\int_{\\Omega} u(x)v(x)\\mathrm{d}x\n",
    "\n",
    "l = 100\n",
    "A = inner(grad(u_trial),grad(u_test))*dx \\\n",
    "    + inner(atrue*u_trial,u_test)*dx \\\n",
    "    - inner(l*u_test, u_trial)*dx\n",
    "\n",
    "w_all = [] # initialize {w_i}\n",
    "D = np.zeros((40,40))\n",
    "for j in range(40):\n",
    "    L_true = f_all[j] * u_test * dx\n",
    "    # solve the forward/state problem to generate synthetic observations\n",
    "    problem = LinearProblem(A, L_true, bcs=[bc], petsc_options={\"ksp_type\": \"preonly\", \"pc_type\": \"lu\"})\n",
    "    u_j = problem.solve()\n",
    "    w_all.append(u_j)\n",
    "    \n",
    "    for i in range(40):\n",
    "        # d_{ij} = \\mathcal{P}_i(u_j) = \\langle p_i, u_j(\\lambda)\\rangle_\\mathsf{U}\n",
    "        # The inner product\n",
    "        # \\langle u,v\\rangle_{\\mathsf{U}} = \\int_{\\Omega} \\nabla u(x)\\cdot\\nabla v(x)\\mathrm{d}x\n",
    "        #                                    + \\int_{\\Omega} c(x)u(x)v(x)\\mathrm{d}x\n",
    "        \n",
    "        D[i,j] = assemble_scalar(form(inner(grad(u_j),grad(p_all[i]))*dx \\\n",
    "                                     +inner(atrue*u_j,p_all[i])*dx))"
   ]
  },
  {
   "cell_type": "code",
   "execution_count": 9,
   "id": "5f17fda4-a39e-4c3c-a0b8-8f38e729301f",
   "metadata": {},
   "outputs": [],
   "source": [
    "G_true = np.zeros((40,40))\n",
    "for j in range(40):\n",
    "    for i in range(j+1):\n",
    "        G_true[i,j] = assemble_scalar(form(inner(grad(w_all[j]),grad(w_all[i]))*dx +inner(atrue*w_all[j],w_all[i])*dx))\n",
    "        G_true[j,i] = G_true[i,j] # since G is symmetric in this case"
   ]
  },
  {
   "cell_type": "markdown",
   "id": "6731026a-750c-464e-9957-2bfc682efbaf",
   "metadata": {},
   "source": [
    "## Next we check that the formula in the paper is good way to estimate matrix G"
   ]
  },
  {
   "cell_type": "code",
   "execution_count": 10,
   "id": "d3545d75-6adc-41e2-ba3c-b4483d8c95ff",
   "metadata": {},
   "outputs": [
    {
     "data": {
      "text/plain": [
       "1.9537447329621587e-07"
      ]
     },
     "execution_count": 10,
     "metadata": {},
     "output_type": "execute_result"
    }
   ],
   "source": [
    "per = 1e-6\n",
    "l_per = l + per\n",
    "A_per = inner(grad(u_trial),grad(u_test))*dx \\\n",
    "        + inner(atrue*u_trial,u_test)*dx  \\\n",
    "        - inner(l_per*u_test, u_trial)*dx\n",
    "\n",
    "D_per = np.zeros((40,40))\n",
    "for j in range(40):\n",
    "    L_true = f_all[j] * u_test * dx\n",
    "    # solve the forward/state problem to generate synthetic observations\n",
    "    problem = LinearProblem(A_per, L_true, bcs=[bc], petsc_options={\"ksp_type\": \"preonly\", \"pc_type\": \"lu\"})\n",
    "    u_j = problem.solve()\n",
    "    \n",
    "    for i in range(40):\n",
    "        # d_{ij} = \\mathcal{P}_i(u_j) = \\langle p_i, u_j(\\lambda)\\rangle_\\mathsf{U}\n",
    "        # The inner product\n",
    "        # \\langle u,v\\rangle_{\\mathsf{U}} = \\int_{\\Omega} \\nabla u(x)\\cdot\\nabla v(x)\\mathrm{d}x\n",
    "        #                                    + \\int_{\\Omega} c(x)u(x)v(x)\\mathrm{d}x\n",
    "        \n",
    "        D_per[i,j] = assemble_scalar(form(inner(grad(u_j),grad(p_all[i]))*dx + inner(u_j,atrue*p_all[i])*dx))\n",
    "G_approx  = D + (D_per-D)/per*l\n",
    "np.linalg.norm(G_true-G_approx)/np.linalg.norm(G_true)"
   ]
  },
  {
   "cell_type": "markdown",
   "id": "df68aeef-715b-4405-8b9b-0d2c70a7f12b",
   "metadata": {},
   "source": [
    "# We come back to look at the optimization landscape"
   ]
  },
  {
   "cell_type": "code",
   "execution_count": 11,
   "id": "ba7570fc",
   "metadata": {},
   "outputs": [],
   "source": [
    "nk = 11\n",
    "obj_all_inf = np.zeros(nk,)\n",
    "obj_all_zero = np.zeros(nk,)\n",
    "obj_all_small = np.zeros(nk,)\n",
    "obj_all_large = np.zeros(nk,)\n",
    "c_all = np.linspace(-10, 10, nk)\n",
    "\n",
    "a = fem.Function(V)\n",
    "\n",
    "w_all = []\n",
    "for k in range(nk):\n",
    "    # a = interpolate(Expression('8. - 2.*(pow(x[0] - 0.5,2) + pow(x[1] - 0.5,2) < pow(0.2,2)) + c', c = k*0.1, degree=5), Va)\n",
    "    # a = interpolate(Expression('pow(sin(x[0]*3),2) + pow(sin(x[1]*3),2) + (1+c)*(pow(sin(10*x[0]),2) + pow(sin(10*x[1]),2))', \n",
    "    #                            c = k*10, degree=2), Va)\n",
    "    c = c_all[k]\n",
    "    # a = fem.Function(V)\n",
    "    # a.interpolate(lambda x: 1 + ( (x[0] - 0.5)**2 + (x[1] - 0.5)**2  < 0.01 ) + \\\n",
    "    #                       (1+c*10)*pow(np.sin(x[0]*10),2) + pow(np.sin(x[1]*10),2))\n",
    "    \n",
    "    a = 30*(1+c)*(ufl.sin(x[0]*3)**2 + ufl.sin(x[1]*3)**2 \\\n",
    "                  + ufl.sin(10*x[0])**2 + ufl.sin(10*x[1])**2 ) \n",
    "\n",
    "    A = inner(grad(u_trial),grad(u_test))*dx \\\n",
    "        + inner(a*u_trial,u_test)*dx \\\n",
    "        - inner(l*u_test, u_trial)*dx\n",
    "    \n",
    "    w_all = [] # initialize {w_i}\n",
    "    E = np.zeros((40,40))\n",
    "    G = np.zeros((40,40))\n",
    "    for j in range(40):\n",
    "        L_true = f_all[j] * u_test * dx\n",
    "        # solve the forward/state problem to generate synthetic observations\n",
    "        problem = LinearProblem(A, L_true, bcs=[bc], petsc_options={\"ksp_type\": \"preonly\", \"pc_type\": \"lu\"})\n",
    "        u_j = problem.solve()\n",
    "        \n",
    "        w_all.append(u_j)\n",
    "        for i in range(j+1):\n",
    "            E[i,j] = D[i,j] - assemble_scalar(form(inner(grad(u_j),grad(p_all[i]))*dx + inner(a*u_j,p_all[i])*dx))\n",
    "            E[j,i] = E[i,j] # D and E are symmetric as well!\n",
    "            G[i,j] = assemble_scalar(form(inner(grad(w_all[j]),grad(w_all[i]))*dx +inner(a*w_all[j],w_all[i])*dx))\n",
    "            G[j,i] = G[i,j] # since G is symmetric in this case\n",
    "    ## np.linalg.cond(G)\n",
    "    ### J = 0.5*{trace}[E(c)^*(I+1/rho*G(c))^{-1}E(c)]\n",
    "    ## G = G*1e9\n",
    "    \n",
    "    G_inv = np.linalg.inv(G)\n",
    "    \n",
    "    obj_all_inf[k] =  0.5*np.trace(E.transpose()*E)\n",
    "    obj_all_large[k] =  0.5*np.trace(E.transpose()* np.linalg.inv(np.eye(40) + G/1e5)*E)\n",
    "    obj_all_small[k] =  0.5*np.trace(E.transpose()* np.linalg.inv(np.eye(40) + G/1e-5)*E)\n",
    "    obj_all_zero[k] =  0.5*np.trace(E.transpose()*G_inv*E)"
   ]
  },
  {
   "cell_type": "code",
   "execution_count": 12,
   "id": "8299f0d4",
   "metadata": {},
   "outputs": [
    {
     "data": {
      "text/plain": [
       "Text(0, 0.5, 'normalized obj. function')"
      ]
     },
     "execution_count": 12,
     "metadata": {},
     "output_type": "execute_result"
    },
    {
     "data": {
      "image/png": "[encoded data removed]",
      "text/plain": [
       "<Figure size 1000x300 with 1 Axes>"
      ]
     },
     "metadata": {},
     "output_type": "display_data"
    }
   ],
   "source": [
    "font = FontProperties()\n",
    "font.set_family('serif')\n",
    "# font.set_name('Times New Roman')\n",
    "font.set_size('12')\n",
    "# font.set_style('italic')\n",
    "\n",
    "fig, ax =  plt.subplots(figsize=(10, 3))\n",
    "\n",
    "coeffs = c_all\n",
    "\n",
    "ax.plot(coeffs, obj_all_inf/np.max(obj_all_inf),color='r',label =  r'$\\rho \\longrightarrow \\infty$')\n",
    "ax.plot(coeffs, obj_all_large/np.max(obj_all_large),color='g',label = r'$\\rho$ large')\n",
    "ax.plot(coeffs, obj_all_small/np.max(obj_all_small),color='k',label = r'$\\rho$ small')\n",
    "ax.plot(coeffs, obj_all_zero/np.max(obj_all_zero),color='b',label = r'$\\rho \\longrightarrow 0$')\n",
    "ax.legend()\n",
    "ax.set_xlabel('coefficient', fontproperties=font)\n",
    "ax.set_ylabel('normalized obj. function', fontproperties=font)\n",
    "# plt.savefig('Poisson2D-full-basis-a-dependent.pdf',bbox_inches='tight')  "
   ]
  },
  {
   "cell_type": "markdown",
   "id": "8d5432a3-5103-4b6e-893d-c642615a6f02",
   "metadata": {},
   "source": [
    "## Below is the case for a different inner product (without variable coefficient weight)"
   ]
  },
  {
   "cell_type": "code",
   "execution_count": 29,
   "id": "6d04e008-4c64-40b4-a27f-9886e41b933c",
   "metadata": {},
   "outputs": [],
   "source": [
    "# obtain p_i's from f_i's\n",
    "p_all = []\n",
    "atrue = (ufl.sin(x[0]*3)**2 + ufl.sin(x[1]*3)**2 + ufl.sin(10*x[0])**2 + ufl.sin(10*x[1])**2 ) \n",
    "B = inner(grad(u_trial),grad(u_test))*dx\n",
    "for i in range(40):\n",
    "    RHS = f_all[i] * u_test * dx\n",
    "    problem = LinearProblem(B, RHS, bcs=[bc], petsc_options={\"ksp_type\": \"preonly\", \"pc_type\": \"lu\"})\n",
    "    u = problem.solve()\n",
    "    p_all.append(u)"
   ]
  },
  {
   "cell_type": "code",
   "execution_count": 30,
   "id": "158e4ad7-6a3d-4a8c-9a22-5300bbb1ebe0",
   "metadata": {},
   "outputs": [],
   "source": [
    "\n",
    "# The bilinear form\n",
    "# \\mathcal{A}_c(u,v)=\\int_{\\Omega} \\nabla u(x)\\cdot \\nabla v(x)\\mathrm{d}x + ...\n",
    "# \\int_{\\Omega} c(x)u(x)v(x)\\mathrm{d}x - \\lambda \\int_{\\Omega} u(x)v(x)\\mathrm{d}x\n",
    "\n",
    "l = 400\n",
    "A = inner(grad(u_trial),grad(u_test))*dx + inner(atrue*u_trial,u_test)*dx - inner(l*u_test, u_trial)*dx\n",
    "\n",
    "D = np.zeros((40,40))\n",
    "for j in range(40):\n",
    "    L_true = f_all[j] * u_test * dx\n",
    "    # solve the forward/state problem to generate synthetic observations\n",
    "    problem = LinearProblem(A, L_true, bcs=[bc], petsc_options={\"ksp_type\": \"preonly\", \"pc_type\": \"lu\"})\n",
    "    u_j = problem.solve()\n",
    "    \n",
    "    for i in range(40):\n",
    "        # d_{ij} = \\mathcal{P}_i(u_j) = \\langle p_i, u_j(\\lambda)\\rangle_\\mathsf{U}\n",
    "        # The inner product\n",
    "        # \\langle u,v\\rangle_{\\mathsf{U}} = \\int_{\\Omega} \\nabla u(x)\\cdot\\nabla v(x)\\mathrm{d}x\n",
    "        #                                    + \\int_{\\Omega} c(x)u(x)v(x)\\mathrm{d}x\n",
    "        \n",
    "        D[i,j] = assemble_scalar(form(inner(grad(u_j),grad(p_all[i]))*dx))"
   ]
  },
  {
   "cell_type": "code",
   "execution_count": 31,
   "id": "27f1a4ea-25c0-443f-90de-1ea467d646a6",
   "metadata": {},
   "outputs": [],
   "source": [
    "\n",
    "A = inner(grad(u_trial),grad(u_test))*dx + inner(atrue*u_trial,u_test)*dx - inner(l*u_test, u_trial)*dx\n",
    "w_all = [] # initialize {w_i}\n",
    "G_true = np.zeros((40,40))\n",
    "for j in range(40):\n",
    "    L_true = f_all[j] * u_test * dx\n",
    "    # solve the forward/state problem to generate synthetic observations\n",
    "    problem = LinearProblem(A, L_true, bcs=[bc], petsc_options={\"ksp_type\": \"preonly\", \"pc_type\": \"lu\"})\n",
    "    u_j = problem.solve()\n",
    "    \n",
    "    w_all.append(u_j)\n",
    "    for i in range(j+1):\n",
    "        G_true[i,j] = assemble_scalar(form(inner(grad(w_all[j]),grad(w_all[i]))*dx ))\n",
    "        G_true[j,i] = G_true[i,j] # since G is symmetric in this case"
   ]
  },
  {
   "cell_type": "code",
   "execution_count": 46,
   "id": "164ae7a9-4eaa-4c6e-a4ad-757b58bad647",
   "metadata": {},
   "outputs": [],
   "source": [
    "nk = 51\n",
    "obj_all_inf = np.zeros(nk,)\n",
    "obj_all_zero = np.zeros(nk,)\n",
    "obj_all_small = np.zeros(nk,)\n",
    "obj_all_large = np.zeros(nk,)\n",
    "c_all = np.linspace(0, 10, nk)\n",
    "\n",
    "atrue = (ufl.sin(x[0]*3)**2 + ufl.sin(x[1]*3)**2 + ufl.sin(10*x[0])**2 + ufl.sin(10*x[1])**2 ) \n",
    "\n",
    "w_all = []\n",
    "for k in range(nk):\n",
    "    # a = interpolate(Expression('8. - 2.*(pow(x[0] - 0.5,2) + pow(x[1] - 0.5,2) < pow(0.2,2)) + c', c = k*0.1, degree=5), Va)\n",
    "    # a = interpolate(Expression('pow(sin(x[0]*3),2) + pow(sin(x[1]*3),2) + (1+c)*(pow(sin(10*x[0]),2) + pow(sin(10*x[1]),2))', \n",
    "    #                            c = k*10, degree=2), Va)\n",
    "    \n",
    "    # c = (k-(nk-1)/2)*20  \n",
    "    c = c_all[k]\n",
    "    a = (1+2*c)*ufl.sin(x[0]*3)**2 + ufl.sin(x[1]*3)**2 + (1+c)*ufl.sin(10*x[0])**2 +(1+c)* ufl.sin(10*x[1])**2 \n",
    "    \n",
    "    A = inner(grad(u_trial),grad(u_test))*dx + inner(a*u_trial,u_test)*dx - inner(l*u_test, u_trial)*dx\n",
    "    \n",
    "    w_all = [] # initialize {w_i}\n",
    "    E = np.zeros((40,40))\n",
    "    G = np.zeros((40,40))\n",
    "    for j in range(40):\n",
    "        L_true = f_all[j] * u_test * dx\n",
    "        # solve the forward/state problem to generate synthetic observations\n",
    "        problem = LinearProblem(A, L_true, bcs=[bc], petsc_options={\"ksp_type\": \"preonly\", \"pc_type\": \"lu\"})\n",
    "        u_j = problem.solve()\n",
    "        \n",
    "        w_all.append(u_j)\n",
    "        for i in range(j+1):\n",
    "            E[i,j] = D[i,j] - assemble_scalar(form(inner(grad(u_j),grad(p_all[i]))*dx ))\n",
    "            E[j,i] = E[i,j] # D and E are symmetric as well!\n",
    "            G[i,j] = assemble_scalar(form(inner(grad(w_all[j]),grad(w_all[i]))*dx))\n",
    "            G[j,i] = G[i,j] # since G is symmetric in this case\n",
    "    # np.linalg.cond(G)\n",
    "    ### J = 0.5*{trace}[E(c)^*(I+1/rho*G(c))^{-1}E(c)]\n",
    "    # G = G*1e9\n",
    "    \n",
    "    G_inv = np.linalg.inv(G)\n",
    "    \n",
    "    obj_all_inf[k] =  0.5*np.trace(E.transpose()*E)\n",
    "    obj_all_large[k] =  0.5*np.trace(E.transpose()* np.linalg.inv(np.eye(40) + G/1e3)*E)\n",
    "    obj_all_small[k] =  0.5*np.trace(E.transpose()* np.linalg.inv(np.eye(40) + G/1e-3)*E)\n",
    "    obj_all_zero[k] =  0.5*np.trace(E.transpose()*G_inv*E)"
   ]
  },
  {
   "cell_type": "code",
   "execution_count": 47,
   "id": "fec7a85c-23ed-4dea-9fb5-e22097aa3916",
   "metadata": {},
   "outputs": [
    {
     "data": {
      "text/plain": [
       "Text(0, 0.5, 'normalized obj. function')"
      ]
     },
     "execution_count": 47,
     "metadata": {},
     "output_type": "execute_result"
    },
    {
     "data": {
      "image/png": "[encoded data removed]",
      "text/plain": [
       "<Figure size 1000x300 with 1 Axes>"
      ]
     },
     "metadata": {},
     "output_type": "display_data"
    }
   ],
   "source": [
    "font = FontProperties()\n",
    "font.set_family('serif')\n",
    "# font.set_name('Times New Roman')\n",
    "font.set_size('12')\n",
    "# font.set_style('italic')\n",
    "\n",
    "fig, ax =  plt.subplots(figsize=(10, 3))\n",
    "\n",
    "coeffs = c_all\n",
    "\n",
    "ax.plot(coeffs, obj_all_inf/np.max(obj_all_inf),color='r',label =  r'$\\rho \\longrightarrow \\infty$')\n",
    "ax.plot(coeffs, obj_all_large/np.max(obj_all_large),color='g',label = r'$\\rho$ large')\n",
    "ax.plot(coeffs, obj_all_small/np.max(obj_all_small),color='k',label = r'$\\rho$ small')\n",
    "ax.plot(coeffs, obj_all_zero/np.max(obj_all_zero),color='b',label = r'$\\rho \\longrightarrow 0$')\n",
    "ax.legend()\n",
    "ax.set_xlabel('coefficient', fontproperties=font)\n",
    "ax.set_ylabel('normalized obj. function', fontproperties=font)\n",
    "# plt.savefig('Poisson2D-full-basis-a-dependent.pdf',bbox_inches='tight')  "
   ]
  },
  {
   "cell_type": "code",
   "execution_count": null,
   "id": "0bdfaa1c-b5a1-41cf-856e-82db193d3a58",
   "metadata": {},
   "outputs": [],
   "source": []
  }
 ],
 "metadata": {
  "kernelspec": {
   "display_name": "Python 3 (ipykernel)",
   "language": "python",
   "name": "python3"
  },
  "language_info": {
   "codemirror_mode": {
    "name": "ipython",
    "version": 3
   },
   "file_extension": ".py",
   "mimetype": "text/x-python",
   "name": "python",
   "nbconvert_exporter": "python",
   "pygments_lexer": "ipython3",
   "version": "3.10.12"
  }
 },
 "nbformat": 4,
 "nbformat_minor": 5
}
